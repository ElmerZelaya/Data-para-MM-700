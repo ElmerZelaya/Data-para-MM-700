{
  "nbformat": 4,
  "nbformat_minor": 0,
  "metadata": {
    "colab": {
      "name": "Avance3.ipynb",
      "provenance": [],
      "collapsed_sections": []
    },
    "kernelspec": {
      "name": "ir",
      "display_name": "R"
    },
    "language_info": {
      "name": "R"
    }
  },
  "cells": [
    {
      "cell_type": "markdown",
      "metadata": {
        "id": "qaU_JPz103ok"
      },
      "source": [
        "Cargando los paquetes"
      ]
    },
    {
      "cell_type": "code",
      "metadata": {
        "id": "W6PcELvaH8-I"
      },
      "source": [
        "install.packages(\"survminer\")"
      ],
      "execution_count": null,
      "outputs": []
    },
    {
      "cell_type": "code",
      "metadata": {
        "id": "Rxo6DvRB0-Q7"
      },
      "source": [
        "library(survival)\n",
        "library(ggplot2)\n",
        "library(survminer)"
      ],
      "execution_count": null,
      "outputs": []
    },
    {
      "cell_type": "markdown",
      "metadata": {
        "id": "OC_XxE701Eek"
      },
      "source": [
        " Cargando el conjunto de datos"
      ]
    },
    {
      "cell_type": "code",
      "metadata": {
        "id": "p96NNr_k1aMr"
      },
      "source": [
        "library(readr)\n",
        "urlfile<-\"https://raw.githubusercontent.com/ElmerZelaya/MM-700-Seminario-de-Investigacion/main/DATA.csv\"\n",
        "datos<-read.csv(urlfile)"
      ],
      "execution_count": 9,
      "outputs": []
    },
    {
      "cell_type": "markdown",
      "metadata": {
        "id": "8eBmymM71hcM"
      },
      "source": [
        "Recodificando las variables categoricas con la función factor():"
      ]
    },
    {
      "cell_type": "code",
      "metadata": {
        "id": "OucbOEE81k-b"
      },
      "source": [
        "datos$actividad<-factor(datos$actividad,levels=c(\"1\",\"2\",\"3\",\"4\",\"5\"),\n",
        "                       labels=c(\"actividades prof\",\"alojamiento\",\"comercio\",\"comida\",\"transporte\"))\n",
        "datos$financiamiento<-factor(datos$financiamiento,levels=c(\"1\",\"2\",\"3\",\"4\"),\n",
        "                            labels=c(\"Banco\",\"Cooperativa\",\"Inst. no bancaria\",\"familiar\"))\n",
        "datos$tamano<-factor(datos$tamano,levels=c(\"1\",\"2\"),\n",
        "                    labels=c(\"micro\",\"pequena\"))"
      ],
      "execution_count": 10,
      "outputs": []
    },
    {
      "cell_type": "markdown",
      "metadata": {
        "id": "J9Poag6fK9E6"
      },
      "source": [
        "Estimación de la Función de Supervivecia S(t) (general) con el método de Kaplan-Meier y calculando el intervalo de confianza del 95%"
      ]
    },
    {
      "cell_type": "code",
      "metadata": {
        "id": "CPMn6WEyE87m"
      },
      "source": [
        "datos.km <- survfit(Surv(datos$tiempo, datos$estado==1)  ~ 1, datos, type = \"kaplan-meier\",conf.type=\"plain\", error=\"greenwood\",conf.int=0.95)\n",
        "summary(datos.km)\n"
      ],
      "execution_count": null,
      "outputs": []
    },
    {
      "cell_type": "code",
      "metadata": {
        "id": "Y0t_AfYnFfKY"
      },
      "source": [
        "cat(\"Curva de supervivencia (global)\")\n",
        "ggsurvplot(fit = datos.km,data=datos,xlim=c(0,45), \n",
        "           xlab = \"Tiempo (semanas)\", ylab = \"Probabilidad de supervivencia\", legend.title = \"Estimación\", \n",
        "           legend.labs = \"K-M\",risk.table = T)$plot +\n",
        "  geom_segment(data=data.frame(c(.074,.316,.492)) , aes(x = c(2.5,20,42) , y = 1-c(.074,.316,.492), xend = c(2.5,20,42), yend = 0), lty = 2) +\n",
        "  geom_segment(data=data.frame(c(.074,.316,.492)) , aes(x = 0, y = 1-c(.074,.316,.492), xend = c(2.5,20,42), yend = 1-c(.074,.316,.492)), lty =2)\n"
      ],
      "execution_count": null,
      "outputs": []
    },
    {
      "cell_type": "markdown",
      "metadata": {
        "id": "FXTNTzpCGKfl"
      },
      "source": [
        "Estimación de la función de Supervivencia S(t) por grupos con sus respectivos I.C. del 95% y curvas de supervivencia."
      ]
    },
    {
      "cell_type": "markdown",
      "metadata": {
        "id": "7MjrwlzpGWZg"
      },
      "source": [
        "**Actividades Económicas**"
      ]
    },
    {
      "cell_type": "code",
      "metadata": {
        "id": "WCK5DKOxGes5"
      },
      "source": [
        "# Actividades Profesionales \n",
        " \n",
        "act_profesionales.km <- survfit(Surv(tiempo, estado) ~ 1, data =  subset.data.frame(datos,actividad==\"actividades prof\"),  type = \"kaplan-meier\",\n",
        "                                conf.type=\"plain\", error=\"greenwood\",conf.int=0.95)\n",
        "summary(act_profesionales.km)\n",
        "cat(\"\\n Curva de supervivencia\")\n",
        " \n",
        "ggsurvplot(fit = act_profesionales.km, data = datos,  xlim=c(0,45), \n",
        "           xlab = \"Tiempo\", ylab = \"Probabilidad de supervivencia\", legend.title = \"Estimación\", \n",
        "           legend.labs =\"Actividades profesionales\" ,risk.table = TRUE)$plot +\n",
        "    geom_segment(data=data.frame(c(.15,.30)) , aes(x = c(7,20) , y = 1-c(.15,.30), xend = c(7,20), yend = 0), lty = 2) +\n",
        "    geom_segment(data=data.frame(c(.15,.30)) , aes(x = 0, y = 1-c(.15,.30), xend = c(7,20), yend = 1-c(.15,.30)), lty =2)\n",
        " \n"
      ],
      "execution_count": null,
      "outputs": []
    },
    {
      "cell_type": "code",
      "metadata": {
        "id": "c3bwI2GRHsod"
      },
      "source": [
        "# Alojamiento\n",
        "  \n",
        "alojamiento.km <- survfit(Surv(tiempo, estado) ~ 1, data = subset.data.frame(datos,actividad==\"alojamiento\"),  type = \"kaplan-meier\",\n",
        "                          conf.type=\"plain\", error=\"greenwood\",conf.int=0.95)\n",
        "summary(alojamiento.km)\n",
        "\n",
        "cat(\"\\n Curva de supervivencia\")\n",
        " \n",
        "ggsurvplot(fit = alojamiento.km, data = datos, title = \"Curva de Supervivencia\",xlim=c(0,45), \n",
        "           xlab = \"Tiempo\", ylab = \"Probabilidad de supervivencia\", legend.title = \"Estimación\", \n",
        "           legend.labs =\"alojamiento\" ) \n"
      ],
      "execution_count": null,
      "outputs": []
    },
    {
      "cell_type": "code",
      "metadata": {
        "id": "mXKOnfgrIhqL"
      },
      "source": [
        "# Comercio \n",
        "comercio.km <- survfit(Surv(tiempo, estado) ~ 1, data =  subset.data.frame(datos,actividad==\"comercio\"),  type = \"kaplan-meier\",\n",
        "                       conf.type=\"plain\", error=\"greenwood\",conf.int=0.95)\n",
        "summary(comercio.km)\n",
        "\n",
        "cat(\"\\n Curva de supervivencia\")\n",
        " \n",
        "ggsurvplot(fit = comercio.km, data = datos, title = \"Curva de Supervivencia\",xlim=c(0,45), \n",
        "           xlab = \"Tiempo\", ylab = \"Probabilidad de supervivencia\", legend.title = \"Estimación\", \n",
        "           legend.labs =\"Comercio\" ) \n"
      ],
      "execution_count": null,
      "outputs": []
    },
    {
      "cell_type": "code",
      "metadata": {
        "id": "3Q--PhIaItlV"
      },
      "source": [
        "# Comida \n",
        "comida.km <- survfit(Surv(tiempo, estado) ~ 1, data =subset.data.frame(datos,actividad==\"comida\"),  type = \"kaplan-meier\",\n",
        "                     conf.type=\"plain\", error=\"greenwood\",conf.int=0.95)\n",
        "summary(comida.km)\n",
        "\n",
        "cat(\"\\n Curva de supervivencia\")\n",
        " \n",
        "ggsurvplot(fit = comida.km, data = datos, title = \"Curva de Supervivencia\",xlim=c(0,45), \n",
        "           xlab = \"Tiempo\", ylab = \"Probabilidad de supervivencia\", legend.title = \"Estimación\", \n",
        "           legend.labs =\"comida\" )$plot+ \n",
        "  geom_segment(data=data.frame(c(.362,.557)) , aes(x = c(20,42) , y = 1-c(.362,.557), xend = c(20,42), yend = 0), lty = 2) +\n",
        "  geom_segment(data=data.frame(c(.362,.557)) , aes(x = 0, y = 1-c(.362,.557), xend = c(20,42), yend = 1-c(.362,.557)), lty =2)\n"
      ],
      "execution_count": null,
      "outputs": []
    },
    {
      "cell_type": "code",
      "metadata": {
        "id": "cOYwVfzRIy_l"
      },
      "source": [
        "# Transporte\n",
        "transporte.km <- survfit(Surv(tiempo, estado) ~ 1, data = subset.data.frame(datos,actividad==\"transporte\"),  type = \"kaplan-meier\",\n",
        "                         conf.type=\"plain\", error=\"greenwood\",conf.int=0.95)\n",
        "summary(transporte.km)\n",
        "\n",
        "cat(\"\\n Curva de supervivencia\")\n",
        " \n",
        "ggsurvplot(fit = transporte.km, data = datos, title = \"Curva de Supervivencia\",xlim=c(0,45), \n",
        "           xlab = \"Tiempo\", ylab = \"Probabilidad de supervivencia\", legend.title = \"Estimación\", \n",
        "           legend.labs =\"transporte\" ) \n"
      ],
      "execution_count": null,
      "outputs": []
    },
    {
      "cell_type": "markdown",
      "metadata": {
        "id": "AWO_kSUOI5Ht"
      },
      "source": [
        "**Tipo de financiamiento**"
      ]
    },
    {
      "cell_type": "code",
      "metadata": {
        "id": "C8vBqN24I_Ot"
      },
      "source": [
        "# Bancos\n",
        "\n",
        "Banco.km <- survfit(Surv(tiempo, estado) ~ 1, data = subset.data.frame(datos,financiamiento==\"Banco\"),  type = \"kaplan-meier\",\n",
        "                    conf.type=\"plain\", error=\"greenwood\",conf.int=0.95)\n",
        "summary(Banco.km)\n",
        "\n",
        "cat(\"\\nCurva de supervivencia\")\n",
        " \n",
        "ggsurvplot(fit = Banco.km, data = datos,xlim=c(0,45), \n",
        "           xlab = \"Tiempo (semanas)\", ylab = \"Probabilidad de supervivencia\", legend.title = \"Estimación\", \n",
        "           legend.labs =\"Banco\" )$plot +\n",
        "  geom_segment(data=data.frame(c(.065,.271,.439)) , aes(x = c(2.5,22,42) , y = 1-c(.065,.271,.439), xend = c(2.5,22,42), yend = 0), lty = 2) +\n",
        "  geom_segment(data=data.frame(c(.065,.271,.439)) , aes(x = 0, y = 1-c(.065,.271,.439), xend = c(2.5,22,42), yend = 1-c(.065,.271,.439)), lty =2)\n",
        "\n"
      ],
      "execution_count": null,
      "outputs": []
    },
    {
      "cell_type": "code",
      "metadata": {
        "id": "pj6bsALIJS_N"
      },
      "source": [
        "# Cooperativas\n",
        " \n",
        "Cooperativa.km <- survfit(Surv(tiempo, estado) ~ 1, data = subset.data.frame(datos,financiamiento==\"Cooperativa\"),  type = \"kaplan-meier\",\n",
        "                          conf.type=\"plain\", error=\"greenwood\",conf.int=0.95)\n",
        "summary(Cooperativa.km)\n",
        "\n",
        "cat(\"\\n Curva de supervivencia\")\n",
        " \n",
        "ggsurvplot(fit = Cooperativa.km, data = datos, title = \"Curva de Supervivencia\",xlim=c(0,45), \n",
        "           xlab = \"Tiempo\", ylab = \"Probabilidad de supervivencia\", legend.title = \"Estimación\", \n",
        "           legend.labs =\"Cooperativa\" ) \n"
      ],
      "execution_count": null,
      "outputs": []
    },
    {
      "cell_type": "code",
      "metadata": {
        "id": "YzeRzjDUJfNz"
      },
      "source": [
        "#Instituciones no bancarias\n",
        "\n",
        "Nobancaria.km <- survfit(Surv(tiempo, estado) ~ 1, data = subset.data.frame(datos,financiamiento==\"Inst. no bancaria\"),  type = \"kaplan-meier\",\n",
        "                                conf.type=\"plain\", error=\"greenwood\",conf.int=0.95)\n",
        "summary(Nobancaria.km)\n",
        "\n",
        "cat(\"\\n Curva de supervivencia\")\n",
        " \n",
        "ggsurvplot(fit = Nobancaria.km, data = datos, title = \"Curva de Supervivencia\",xlim=c(0,45), \n",
        "           xlab = \"Tiempo\", ylab = \"Probabilidad de supervivencia\", legend.title = \"Estimación\", \n",
        "           legend.labs =\"Inst. no bancaria\" ) \n"
      ],
      "execution_count": null,
      "outputs": []
    },
    {
      "cell_type": "code",
      "metadata": {
        "id": "j5gwq3veJoqP"
      },
      "source": [
        "# Familiar\n",
        "\n",
        "\n",
        "familiar.km <- survfit(Surv(tiempo, estado) ~ 1, data =  subset.data.frame(datos,financiamiento==\"familiar\"),  type = \"kaplan-meier\",\n",
        "                       conf.type=\"plain\", error=\"greenwood\",conf.int=0.95)\n",
        "summary(familiar.km)\n",
        "\n",
        "cat(\"\\n Curva de supervivencia\")\n",
        " \n",
        " ggsurvplot(fit = familiar.km, data = datos,xlim=c(0,45), \n",
        "           xlab = \"Tiempo (semanas)\", ylab = \"Probabilidad de supervivencia\", legend.title = \"Estimación\", \n",
        "           legend.labs =\"familiar\" )$plot +\n",
        "  geom_segment(data=data.frame(c(.108,.515,.585)) , aes(x = c(2.5,26,42) , y = 1-c(.108,.515,.585), xend = c(2.5,26,42), yend = 0), lty = 2) +\n",
        "  geom_segment(data=data.frame(c(.108,.515,.585)) , aes(x = 0, y = 1-c(.108,.515,.585), xend = c(2.5,26,42), yend = 1-c(.108,.515,.585)), lty =2)\n"
      ],
      "execution_count": null,
      "outputs": []
    },
    {
      "cell_type": "markdown",
      "metadata": {
        "id": "lLVqOsgMJzq9"
      },
      "source": [
        "**Tamaño de la empresa**"
      ]
    },
    {
      "cell_type": "code",
      "metadata": {
        "id": "75gOjrbgMDEU"
      },
      "source": [
        "# Micro\n",
        "\n",
        "micro.km <- survfit(Surv(tiempo, estado) ~ 1, data = subset.data.frame(datos,tamano==\"micro\"),  type = \"kaplan-meier\",\n",
        "                    conf.type=\"plain\", error=\"greenwood\",conf.int=0.95)\n",
        "summary(micro.km)\n",
        "\n",
        "cat(\"\\n Curva de supervivencia\")\n",
        " \n",
        "ggsurvplot(fit = micro.km, data = datos,xlim=c(0,45), \n",
        "           xlab = \"Tiempo (semanas)\", ylab = \"Probabilidad de supervivencia\", legend.title = \"Estimación\", \n",
        "           legend.labs =\"micro\" )$plot +\n",
        "  geom_segment(data=data.frame(c(.151,.325,.501)) , aes(x = c(7,20,42) , y = 1-c(.151,.325,.501), xend = c(7,20,42), yend = 0), lty = 2) +\n",
        "  geom_segment(data=data.frame(c(.151,.325,.501)) , aes(x = 0, y = 1-c(.151,.325,.501), xend = c(7,20,42), yend = 1-c(.151,.325,.501)), lty =2) \n",
        "\n"
      ],
      "execution_count": null,
      "outputs": []
    },
    {
      "cell_type": "code",
      "metadata": {
        "id": "Xr0tXVO5JuCR"
      },
      "source": [
        "# Pequeña\n",
        "\n",
        "pequena.km <- survfit(Surv(tiempo, estado) ~ 1, data =  subset.data.frame(datos,tamano==\"pequena\"),  type = \"kaplan-meier\",\n",
        "                      conf.type=\"plain\", error=\"greenwood\",conf.int=0.95)\n",
        "summary(pequena.km)\n",
        "\n",
        "cat(\"\\n Curva de supervivencia\")\n",
        " \n",
        "ggsurvplot(fit = pequena.km, data = datos,xlim=c(0,45), \n",
        "           xlab = \"Tiempo (semanas)\", ylab = \"Probabilidad de supervivencia\", legend.title = \"Estimación\", \n",
        "           legend.labs =\"pequena\" )$plot +\n",
        "  geom_segment(data=data.frame(c(.162,.291,.462)) , aes(x = c(7,20,42) , y = 1-c(.162,.291,.462), xend = c(7,20,42), yend = 0), lty = 2) +\n",
        "  geom_segment(data=data.frame(c(.162,.291,.462)) , aes(x = 0, y = 1-c(.162,.291,.462), xend = c(7,20,42), yend = 1-c(.162,.291,.462)), lty =2) \n"
      ],
      "execution_count": null,
      "outputs": []
    }
  ]
}
