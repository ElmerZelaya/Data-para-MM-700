{
  "nbformat": 4,
  "nbformat_minor": 0,
  "metadata": {
    "colab": {
      "name": "Anance4.ipynb",
      "provenance": [],
      "collapsed_sections": []
    },
    "kernelspec": {
      "name": "ir",
      "display_name": "R"
    },
    "language_info": {
      "name": "R"
    }
  },
  "cells": [
    {
      "cell_type": "markdown",
      "metadata": {
        "id": "qaU_JPz103ok"
      },
      "source": [
        "Cargando los paquetes"
      ]
    },
    {
      "cell_type": "code",
      "metadata": {
        "id": "1YyX_h-FGEc-"
      },
      "source": [
        "install.packages(\"survminer\")"
      ],
      "execution_count": null,
      "outputs": []
    },
    {
      "cell_type": "code",
      "metadata": {
        "id": "Rxo6DvRB0-Q7"
      },
      "source": [
        "library(survival)\n",
        "library(ggplot2)\n",
        "library(dplyr)\n",
        "library(survminer)"
      ],
      "execution_count": 17,
      "outputs": []
    },
    {
      "cell_type": "markdown",
      "metadata": {
        "id": "OC_XxE701Eek"
      },
      "source": [
        " Cargando y mostrando el conjunto de datos"
      ]
    },
    {
      "cell_type": "code",
      "metadata": {
        "id": "p96NNr_k1aMr"
      },
      "source": [
        "library(readr)\n",
        "urlfile<-\"https://raw.githubusercontent.com/ElmerZelaya/MM-700-Seminario-de-Investigacion/main/DATA.csv\"\n",
        "datos<-read.csv(urlfile)"
      ],
      "execution_count": 18,
      "outputs": []
    },
    {
      "cell_type": "markdown",
      "metadata": {
        "id": "8eBmymM71hcM"
      },
      "source": [
        "Recodificando las variables categoricas con la función factor():"
      ]
    },
    {
      "cell_type": "code",
      "metadata": {
        "id": "OucbOEE81k-b"
      },
      "source": [
        "datos$actividad<-factor(datos$actividad,levels=c(\"1\",\"2\",\"3\",\"4\",\"5\"),\n",
        "                       labels=c(\"actividades prof\",\"alojamiento\",\"comercio\",\"comida\",\"transporte\"))\n",
        "datos$financiamiento<-factor(datos$financiamiento,levels=c(\"1\",\"2\",\"3\",\"4\"),\n",
        "                            labels=c(\"Banco\",\"Cooperativa\",\"Inst. no bancaria\",\"familiar\"))\n",
        "datos$tamano<-factor(datos$tamano,levels=c(\"1\",\"2\"),\n",
        "                    labels=c(\"micro\",\"pequena\"))"
      ],
      "execution_count": 15,
      "outputs": []
    },
    {
      "cell_type": "markdown",
      "metadata": {
        "id": "4Dj1eadYFsVs"
      },
      "source": [
        "Comparando los grupos de las actividades económicas."
      ]
    },
    {
      "cell_type": "code",
      "metadata": {
        "id": "RaEL5I4eF8er"
      },
      "source": [
        "survfit(Surv(tiempo, estado==1) ~ actividad, data=datos) %>%\n",
        "  ggsurvplot( conf.int = F,pval=T,xlim=c(0,45))\n",
        "\n",
        "logrank<-survdiff(Surv(tiempo, estado) ~ actividad, data = datos, rho = 0)\n",
        "cat(\"p-valor :\",1 - pchisq(logrank$chisq, length(logrank$n) - 1) \n",
        ")"
      ],
      "execution_count": null,
      "outputs": []
    },
    {
      "cell_type": "markdown",
      "metadata": {
        "id": "moW5t9KiQHfM"
      },
      "source": [
        "Comparación en parejas (actividades económicas)"
      ]
    },
    {
      "cell_type": "code",
      "metadata": {
        "id": "n7kjfzaAJ9Nd"
      },
      "source": [
        "pairwise_survdiff(Surv(tiempo, estado) ~ actividad, data = datos, p.adjust.method = \"none\", \n",
        "                  rho = 0)\n"
      ],
      "execution_count": null,
      "outputs": []
    },
    {
      "cell_type": "markdown",
      "metadata": {
        "id": "Cp1DF4fJJ28a"
      },
      "source": [
        "Comparando los grupos de lo tipos de Financiamientos"
      ]
    },
    {
      "cell_type": "code",
      "metadata": {
        "id": "3-voxK8tKX0R"
      },
      "source": [
        "survfit(Surv(tiempo, estado==1) ~ financiamiento, data=datos) %>%\n",
        "  ggsurvplot( conf.int = F,pval=T,xlim=c(0,45))\n",
        " \n",
        "logrank<-survdiff(Surv(tiempo, estado) ~ financiamiento, data = datos, rho = 0)\n",
        "\n",
        "cat(\"p-valor\",1 - pchisq(logrank$chisq, length(logrank$n) - 1) )\n"
      ],
      "execution_count": null,
      "outputs": []
    },
    {
      "cell_type": "markdown",
      "metadata": {
        "id": "CiMPSd4dKmQu"
      },
      "source": [
        "Comparacion en parejas (Tipos de financiamientos)"
      ]
    },
    {
      "cell_type": "code",
      "metadata": {
        "id": "zB6fWVnTKrh6"
      },
      "source": [
        "pairwise_survdiff(Surv(tiempo, estado) ~ financiamiento, data = datos, p.adjust.method = \"none\", \n",
        "                  rho = 0)\n"
      ],
      "execution_count": null,
      "outputs": []
    },
    {
      "cell_type": "markdown",
      "metadata": {
        "id": "gvAtBM0lK4u6"
      },
      "source": [
        "Comparando los grupos de tamaño de la empresa"
      ]
    },
    {
      "cell_type": "code",
      "metadata": {
        "id": "Hp5uPZeqK-H5"
      },
      "source": [
        "survfit(Surv(tiempo, estado==1) ~ tamano, data=datos) %>%\n",
        "  ggsurvplot(conf.int = F,pval=T)\n",
        "\n",
        "logrank<-survdiff(Surv(tiempo, estado) ~ tamano, data = datos, rho = 0)\n",
        "\n",
        "cat(\"p-valor\",1 - pchisq(logrank$chisq, length(logrank$n) - 1)) \n"
      ],
      "execution_count": null,
      "outputs": []
    }
  ]
}