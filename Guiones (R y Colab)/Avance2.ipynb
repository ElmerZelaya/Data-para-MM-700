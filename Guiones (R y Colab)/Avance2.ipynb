{
  "nbformat": 4,
  "nbformat_minor": 0,
  "metadata": {
    "colab": {
      "name": "Avance1.ipynb",
      "provenance": [],
      "collapsed_sections": []
    },
    "kernelspec": {
      "name": "ir",
      "display_name": "R"
    },
    "language_info": {
      "name": "R"
    }
  },
  "cells": [
    {
      "cell_type": "markdown",
      "metadata": {
        "id": "qaU_JPz103ok"
      },
      "source": [
        "Cargando paquete Survival"
      ]
    },
    {
      "cell_type": "code",
      "metadata": {
        "id": "Rxo6DvRB0-Q7"
      },
      "source": [
        "library(survival)"
      ],
      "execution_count": null,
      "outputs": []
    },
    {
      "cell_type": "markdown",
      "metadata": {
        "id": "OC_XxE701Eek"
      },
      "source": [
        " Cargando y mostrando el conjunto de datos"
      ]
    },
    {
      "cell_type": "code",
      "metadata": {
        "id": "p96NNr_k1aMr"
      },
      "source": [
        "library(readr)\n",
        "urlfile<-\"https://raw.githubusercontent.com/ElmerZelaya/MM-700-Seminario-de-Investigacion/main/DATA.csv\"\n",
        "data<-read.csv(urlfile)\n",
        "head(data)\n"
      ],
      "execution_count": null,
      "outputs": []
    },
    {
      "cell_type": "markdown",
      "metadata": {
        "id": "8eBmymM71hcM"
      },
      "source": [
        "Recodificando las variables categoricas con la función factor():"
      ]
    },
    {
      "cell_type": "code",
      "metadata": {
        "id": "OucbOEE81k-b"
      },
      "source": [
        "data$actividad<-factor(data$actividad,levels=c(\"1\",\"2\",\"3\",\"4\",\"5\"),\n",
        "                       labels=c(\"actividades prof\",\"alojamiento\",\"comercio\",\"comida\",\"transporte\"))\n",
        "data$financiamiento<-factor(data$financiamiento,levels=c(\"1\",\"2\",\"3\",\"4\"),\n",
        "                            labels=c(\"Banco\",\"Cooperativa\",\"Inst. no bancaria\",\"familiar\"))\n",
        "data$tamano<-factor(data$tamano,levels=c(\"1\",\"2\"),\n",
        "                    labels=c(\"micro\",\"pequena\"))\n",
        "head(data)"
      ],
      "execution_count": null,
      "outputs": []
    },
    {
      "cell_type": "markdown",
      "metadata": {
        "id": "a6n9URIk1pwr"
      },
      "source": [
        "# Análisis descriptivo de los datos\n",
        "Comenzaremos mostrando el numero de empresas por grupo en sus factores (frecuencias absolutas y relativas)"
      ]
    },
    {
      "cell_type": "code",
      "metadata": {
        "id": "gF_3emxz3Cs8"
      },
      "source": [
        "cat(\"Actividades Económicas\")\n",
        " \n",
        "cat(\"\\n\\n frecuencia absoluta:\")\n",
        "table(data$actividad) \n",
        "cat(\"\\n frecuencias relativas:\")\n",
        "prop.table(table(data$actividad))\n",
        "cat(\"\\n Gráfica de frecuencia relativa:\" )\n",
        "barplot(prop.table(table(data$actividad)),col=\"steelblue\",ylim = c(0, 0.40),space = 0.1,\n",
        "        xlab=\"Actividades economicas\", ylab=\"Frecuencia relativa\", \n",
        "        main=\"Actividades Economicas\") \n"
      ],
      "execution_count": null,
      "outputs": []
    },
    {
      "cell_type": "code",
      "metadata": {
        "id": "vMkcl1AS3F7v"
      },
      "source": [
        "cat(\"Tipo de Financiamiento\")\n",
        " \n",
        "cat(\"\\n\\n frecuencias absoluta:\")\n",
        "table(data$financiamiento)\n",
        "cat(\"\\n Frecuencia relativas:\")\n",
        "prop.table(table(data$financiamiento))\n",
        "cat(\"\\n gráfica de frecuencias relativas:\")\n",
        "barplot(prop.table(table(data$financiamiento)), ylim = c(0, 0.35),col=\"steelblue\",space =\n",
        "          0.1,xlab=\"Tipo de Financiamiento\", ylab=\"Frecuencia relativa\", \n",
        "        main=\"Tipo de Financiamiento\")\n"
      ],
      "execution_count": null,
      "outputs": []
    },
    {
      "cell_type": "code",
      "metadata": {
        "id": "Ff6gCXRi2lI-"
      },
      "source": [
        "cat(\"Tamaño de la empresa\")\n",
        "cat(\"\\n\\n frecuencias absoluta:\")\n",
        "table(data$tamano)\n",
        "cat(\"\\n Frecuencia relativas:\")\n",
        "prop.table(table(data$tamano))\n",
        "cat(\"\\n gráfica de frecuencias relativas:\")\n",
        "barplot(prop.table(table(data$tamano)),col=\"steelblue\",space = 0.1,ylim = c(0, 0.80),xlab\n",
        "        =\"Tamaño de la Empresa\", ylab=\"Frecuencia relativa\", \n",
        "        main=\"Tamano de la empresa\")"
      ],
      "execution_count": null,
      "outputs": []
    },
    {
      "cell_type": "markdown",
      "metadata": {
        "id": "rOimL4YN9iZW"
      },
      "source": [
        "Creando un conjunto de datos temporal (se utilizara para fines de una mejor comprensión de las gráficas y tablas)"
      ]
    },
    {
      "cell_type": "code",
      "metadata": {
        "id": "G-YV5wC-90wq"
      },
      "source": [
        "data_temp<-data                                                                 \n",
        "data_temp$estado<-factor(data_temp$estado,levels=c(\"0\",\"1\"),\n",
        "                        labels=c(\"censura\",\"observación\"))"
      ],
      "execution_count": null,
      "outputs": []
    },
    {
      "cell_type": "markdown",
      "metadata": {
        "id": "eA88ujPW2rwM"
      },
      "source": [
        "Análisis descriptivo de las censuras y observaciones (0 indica censura, 1 indica observación)\n",
        "\n",
        "En toda la muestra:"
      ]
    },
    {
      "cell_type": "code",
      "metadata": {
        "id": "NhuTw0E44bpu"
      },
      "source": [
        "cat(\"\\n frecuencia absoluta:\")\n",
        "table(data_temp$estado)\n",
        "cat(\"\\nFrecuencia relativa:\")\n",
        "prop.table(table(data_temp$estado)) \n",
        "cat(\"\\n gráfica de frecuencia absoluta:\")\n",
        "barplot(table(data_temp$estado),space = 0.1,col=c(\"darkslategray\",\"cyan3\"),ylim = c(0,270)\n",
        "        ,ylab = \"Frecuencia absoluta\",main=\"Censuras y Eventos Observados\")"
      ],
      "execution_count": null,
      "outputs": []
    },
    {
      "cell_type": "markdown",
      "metadata": {
        "id": "bM-mbQ0Y4ltW"
      },
      "source": [
        "Por factores"
      ]
    },
    {
      "cell_type": "code",
      "metadata": {
        "id": "u2bay-l_4sKm"
      },
      "source": [
        "cat(\"Actividades Económicas\")\n",
        "cat(\"\\n\\n Frecuenica absoluta:\")\n",
        "table(data$actividad,data_temp$estado) \n",
        "cat(\"\\n frecuencia relativa dentro del factor:\")\n",
        "prop.table(table(data$financiamiento,data_temp$estado)) \n",
        "cat(\"\\nFrecuencia relativa dentro del grupo:\")\n",
        "table(data$actividad,data_temp$estado)/as.numeric(table(data$actividad))\n",
        "cat(\"\\ gráfica frecuencia absoluta:\")\n",
        "barplot(table(data$actividad,data_temp$estado),beside = TRUE,col=c(\"darkslategray\",\"deepskyblue4\",\"cyan3\",\"skyblue\",\"lightcyan\")\n",
        "        ,ylim = c(0,120),ylab = \"Frecuencia absoluta\")\n",
        "legend(1500, 0.9,legend=c(\"Act. Profesionales\",\"Alojamiento\",\"Comercio\",\"Comida\",\"Transporte\"),\n",
        "       fill =c(\"darkslategray\",\"deepskyblue4\",\"cyan3\",\"skyblue\",\"lightcyan\"),x = \"top\", box.col = 4,box.lwd = 2)\n",
        "\n"
      ],
      "execution_count": null,
      "outputs": []
    },
    {
      "cell_type": "code",
      "metadata": {
        "id": "VTS-3zy_4uLX"
      },
      "source": [
        "\n",
        "cat(\"Tipo de financiamiento\")\n",
        "cat(\"\\n\\n Frecuencia absoluta:\")\n",
        "table(data$financiamiento,data_temp$estado)\n",
        "cat(\"\\n Frecuencia relativa dentro del factor:\")\n",
        "prop.table(table(data$financiamiento,data_temp$estado))\n",
        "cat(\"\\n frecuencia relativa en el grupo:\")\n",
        "table(data$financiamiento,data_temp$estado)/as.numeric(table(data$financiamiento)) \n",
        "cat(\"\\n gráfica de frecuencia absoluta:\")\n",
        "barplot(table(data$financiamiento,data_temp$estado),beside = TRUE,col=c(\"deepskyblue4\",\"cyan3\",\"skyblue\",\"lightcyan\")\n",
        "        ,ylim = c(0,120),ylab = \"Frecuencia absoluta\")\n",
        "legend(1500, 0.9,legend=c(\"Banco\",\"Cooperativa\",\"Inst. no bancaria\",\"Familiar\"),\n",
        "       fill =c(\"deepskyblue4\",\"cyan3\",\"skyblue\",\"lightcyan\"),x = \"top\", box.col = 4,box.lwd = 2)\n"
      ],
      "execution_count": null,
      "outputs": []
    },
    {
      "cell_type": "code",
      "metadata": {
        "id": "fTZ4qpxK3YQl"
      },
      "source": [
        "cat(\"Tamaño de la empresa\")\n",
        "cat(\"\\n\\nfrecuencia absoltuta:\")\n",
        "with(data,table(data$tamano,data_temp$estado))\n",
        "cat(\"\\nfrecuancia relativa dentro del factor:\")\n",
        "prop.table(table(data$tamano,data_temp$estado))\n",
        "cat(\"\\n frecuencia relativa dentro del grupo:\")\n",
        "table(data$tamano,data_temp$estado)/as.numeric(table(data$tamano)) \n",
        "cat(\"\\n Gráfica de frecuencia absoluta:\")\n",
        "barplot(table(data$tamano,data_temp$estado),beside = TRUE,col=c(\"deepskyblue4\",\"cyan3\")\n",
        "        ,ylim = c(0,210),ylab = \"Frecuencia absoluta\")\n",
        "legend(1500, 0.9,legend=c(\"Micro\",\"Pequña\"),\n",
        "       fill =c(\"deepskyblue4\",\"cyan3\"),x = \"top\", box.col = 4,box.lwd = 2)"
      ],
      "execution_count": null,
      "outputs": []
    },
    {
      "cell_type": "markdown",
      "metadata": {
        "id": "RjBHtKuM-96k"
      },
      "source": [
        "Eliminando la el conjunto \"*data_temp*\" temporal"
      ]
    },
    {
      "cell_type": "code",
      "metadata": {
        "id": "vYxqv2xH_K7a"
      },
      "source": [
        "rm(\"data_temp\")"
      ],
      "execution_count": null,
      "outputs": []
    },
    {
      "cell_type": "markdown",
      "metadata": {
        "id": "qmhEzFGd3cFu"
      },
      "source": [
        "Tiempos de supervivencia."
      ]
    },
    {
      "cell_type": "code",
      "metadata": {
        "id": "A8jGi0bs3oIt"
      },
      "source": [
        "cat(\"Mostrando todos los tiempos(incluyendo cuando ocurre el evento y cuando no)\n",
        "un signo \\\"+\\\" acompañando el numero indica cuando hubo censura.\\n\")\n",
        "\n",
        "Surv ( data$tiempo , data$estado ) "
      ],
      "execution_count": null,
      "outputs": []
    },
    {
      "cell_type": "code",
      "metadata": {
        "id": "3gS-1nfE3qbV"
      },
      "source": [
        "cat(\"tiempos donde se presenta el evento:\\n\\n\")\n",
        "print(data$tiempo [ data$estado == 1 ])"
      ],
      "execution_count": null,
      "outputs": []
    },
    {
      "cell_type": "code",
      "metadata": {
        "id": "irwIFAAY3uV9"
      },
      "source": [
        "cat(\"tiempos donde se presenta el evento (ordenados):\\n\\n\")\n",
        "print(sort(data$tiempo [ data$estado == 1 ]))"
      ],
      "execution_count": null,
      "outputs": []
    },
    {
      "cell_type": "code",
      "metadata": {
        "id": "S4jPDQP73wOV"
      },
      "source": [
        "cat(\"frecuencia de estos tiempos (absoluta):\")\n",
        "table( data$tiempo [ data$estado == 1 ] )\n",
        "cat(\"\\nFrecuencia relativas\")\n",
        "prop.table(table(data$tiempo[data$estado==1])) \n",
        "cat(\"\\n Gráfica de frecuencia relativa\")\n",
        "barplot(prop.table(table(data$tiempo[data$estado==1])),space =0,ylim = c(0, 0.3),xlab = ,50,col\n",
        "        =\"deepskyblue4\" , ylab=\"Frecuencia relativa\")\n",
        "\n"
      ],
      "execution_count": null,
      "outputs": []
    },
    {
      "cell_type": "markdown",
      "metadata": {
        "id": "rxUxB_6M30ZH"
      },
      "source": [
        "Distribución de los tiempos de supervivencia"
      ]
    },
    {
      "cell_type": "code",
      "metadata": {
        "id": "1C5Zwp8QOZZM"
      },
      "source": [
        "cat(\"Actividades económicas\")\n",
        "table( data$actividad[data$estado==1], data$tiempo [ data$estado == 1 ])"
      ],
      "execution_count": null,
      "outputs": []
    },
    {
      "cell_type": "code",
      "metadata": {
        "id": "yjMTi-LlOcZM"
      },
      "source": [
        "cat(\"Tipo de Financiamiento\")\n",
        "table( data$financiamiento[data$estado==1], data$tiempo [ data$estado == 1 ])"
      ],
      "execution_count": null,
      "outputs": []
    },
    {
      "cell_type": "code",
      "metadata": {
        "id": "i1shfIi_ra2a"
      },
      "source": [
        "cat(\"Tamaño de la empresa\")\n",
        "table( data$tamano[data$estado==1], data$tiempo [ data$estado == 1 ])"
      ],
      "execution_count": null,
      "outputs": []
    }
  ]
}
