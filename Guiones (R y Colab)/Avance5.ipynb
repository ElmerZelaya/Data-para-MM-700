{
  "nbformat": 4,
  "nbformat_minor": 0,
  "metadata": {
    "colab": {
      "name": "Avance5.ipynb",
      "provenance": []
    },
    "kernelspec": {
      "name": "ir",
      "display_name": "R"
    },
    "language_info": {
      "name": "R"
    }
  },
  "cells": [
    {
      "cell_type": "markdown",
      "metadata": {
        "id": "FJrXJp56CBkc"
      },
      "source": [
        "Cargando los paquetes"
      ]
    },
    {
      "cell_type": "code",
      "metadata": {
        "id": "eGqdNbrQB72a"
      },
      "source": [
        "install.packages(\"survminer\")"
      ],
      "execution_count": null,
      "outputs": []
    },
    {
      "cell_type": "code",
      "metadata": {
        "id": "LFifbdW9CN3s"
      },
      "source": [
        "library(survival)\n",
        "library(survminer)"
      ],
      "execution_count": null,
      "outputs": []
    },
    {
      "cell_type": "markdown",
      "metadata": {
        "id": "1-XrO3iCCWZ6"
      },
      "source": [
        "Cargando el conjunto de datos"
      ]
    },
    {
      "cell_type": "code",
      "metadata": {
        "id": "GYRyaOe_CZZn"
      },
      "source": [
        "library(readr)\n",
        "urlfile<-\"https://raw.githubusercontent.com/ElmerZelaya/MM-700-Seminario-de-Investigacion/main/DATA.csv\"\n",
        "datos<-read.csv(urlfile)"
      ],
      "execution_count": null,
      "outputs": []
    },
    {
      "cell_type": "markdown",
      "metadata": {
        "id": "7O9s2sP7CcO3"
      },
      "source": [
        "Recodificando las variables categoricas con la función factor():"
      ]
    },
    {
      "cell_type": "code",
      "metadata": {
        "id": "Mr2FF0aqCfaN"
      },
      "source": [
        "datos$actividad<-factor(datos$actividad,levels=c(\"1\",\"2\",\"3\",\"4\",\"5\"),\n",
        "                        labels=c(\"actividades prof\",\"alojamiento\",\"comercio\",\"comida\",\"transporte\"))\n",
        "datos$financiamiento<-factor(datos$financiamiento,levels=c(\"1\",\"2\",\"3\",\"4\"),\n",
        "                             labels=c(\"Banco\",\"Cooperativa\",\"Inst. no bancaria\",\"familiar\"))\n",
        "datos$tamano<-factor(datos$tamano,levels=c(\"1\",\"2\"),\n",
        "                     labels=c(\"micro\",\"pequena\"))\n"
      ],
      "execution_count": null,
      "outputs": []
    },
    {
      "cell_type": "markdown",
      "metadata": {
        "id": "pfKz-CKtCirI"
      },
      "source": [
        "calculando Cociente de riesgo e IC del 95% de los grupos que presentaron diferencia significativa en la experiencia de supervivencia\n"
      ]
    },
    {
      "cell_type": "markdown",
      "metadata": {
        "id": "3HDhdUOOC7Im"
      },
      "source": [
        "Actividades económicas"
      ]
    },
    {
      "cell_type": "code",
      "metadata": {
        "id": "_hYZn9ezC0ZH"
      },
      "source": [
        "\n",
        "# alojamiento - transporte\n",
        "logrank<-survdiff(Surv(tiempo, estado) ~ actividad, data = subset.data.frame(datos,datos$actividad==\"transporte\"|\n",
        "                                                                             datos$actividad==\"alojamiento\"), rho=0) \n",
        "\n",
        "cat(\"Numero de eventos observados\\n\",\"Alojamiento:\",logrank$obs[1],\"\\n Transporte :\",logrank$obs[2])\n",
        "cat(\"\\n\\nNumero de eventos esperados\\n\",\"Alojamiento:\",logrank$exp[1],\"\\n Transporte :\",logrank$exp[2])\n",
        "\n",
        "hr<-(logrank$obs[1]/logrank$exp[1])/(logrank$obs[2]/logrank$exp[2])\n",
        "cat(\"\\n\\nCociente de riesgo:\", hr)\n",
        "\n",
        "# IC del 95%\n",
        "Li<-exp(log(hr)-qnorm(0.975)*sqrt(1/(logrank$exp[1]+1/logrank$exp[2])))\n",
        "Ls<-exp(log(hr)+qnorm(0.975)*sqrt(1/(logrank$exp[1]+1/logrank$exp[2])))\n",
        "cat(\"\\n\\nIC del 95%\\n\",\"(\",Li,\",\",Ls,\")\")\n"
      ],
      "execution_count": null,
      "outputs": []
    },
    {
      "cell_type": "code",
      "metadata": {
        "id": "s1mN67U8DQk6"
      },
      "source": [
        "# comida - transporte\n",
        "logrank<-survdiff(Surv(tiempo, estado) ~ actividad, data = subset.data.frame(datos,datos$actividad==\"transporte\"|\n",
        "                                                                             datos$actividad==\"comida\"), rho=0) \n",
        "\n",
        "cat(\"Numero de eventos observados\\n\",\"Comida    :\",logrank$obs[1],\"\\n Transporte:\",logrank$obs[2])\n",
        "cat(\"\\n\\nNumero de eventos esperados\\n\",\"Comida    :\",logrank$exp[1],\"\\n Transporte:\",logrank$exp[2])\n",
        "\n",
        "hr<-(logrank$obs[1]/logrank$exp[1])/(logrank$obs[2]/logrank$exp[2])\n",
        "cat(\"\\n\\nCociente de riesgo:\", hr)\n",
        "\n",
        "# IC del 95%\n",
        "Li<-exp(log(hr)-qnorm(0.975)*sqrt(1/(logrank$exp[1]+1/logrank$exp[2])))\n",
        "Ls<-exp(log(hr)+qnorm(0.975)*sqrt(1/(logrank$exp[1]+1/logrank$exp[2])))\n",
        "cat(\"\\n\\nIC del 95%\\n\",\"(\",Li,\",\",Ls,\")\")\n"
      ],
      "execution_count": null,
      "outputs": []
    },
    {
      "cell_type": "code",
      "metadata": {
        "id": "qdipyFFhDUJL"
      },
      "source": [
        "# comercio - comida\n",
        "logrank<-survdiff(Surv(tiempo, estado) ~ actividad, data = subset.data.frame(datos,datos$actividad==\"comercio\"|\n",
        "                                                                              datos$actividad==\"comida\"), rho=0) \n",
        "\n",
        "cat(\"Numero de eventos observados\\n\",\"Comercio:\",logrank$obs[1],\"\\n Comida  :\",logrank$obs[2])\n",
        "cat(\"\\n\\nNumero de eventos esperados\\n\",\"Comercio:\",logrank$exp[1],\"\\n Comida  :\",logrank$exp[2])\n",
        "\n",
        "hr<-(logrank$obs[1]/logrank$exp[1])/(logrank$obs[2]/logrank$exp[2])\n",
        "cat(\"\\n\\nCociente de riesgo:\", hr)\n",
        "\n",
        "# IC del 95%\n",
        "Li<-exp(log(hr)-qnorm(0.975)*sqrt(1/(logrank$exp[1]+1/logrank$exp[2])))\n",
        "Ls<-exp(log(hr)+qnorm(0.975)*sqrt(1/(logrank$exp[1]+1/logrank$exp[2])))\n",
        "cat(\"\\n\\nIC del 95%\\n\",\"(\",Li,\",\",Ls,\")\")\n"
      ],
      "execution_count": null,
      "outputs": []
    },
    {
      "cell_type": "markdown",
      "metadata": {
        "id": "qbcDLvvzDXcz"
      },
      "source": [
        "Tipos de Financiamientos"
      ]
    },
    {
      "cell_type": "code",
      "metadata": {
        "id": "v5gBFEAEDaku"
      },
      "source": [
        "# Banco - Familiar\n",
        "logrank<-survdiff(Surv(tiempo, estado) ~ financiamiento, data = subset.data.frame(datos,datos$financiamiento==\"Banco\"|\n",
        "                                                                               datos$financiamiento==\"familiar\"), rho=0) \n",
        "\n",
        "cat(\"Numero de eventos observados\\n\",\"Banco   :\",logrank$obs[1],\"\\n Familiar:\",logrank$obs[2])\n",
        "cat(\"\\n\\nNumero de eventos esperados\\n\",\"Banco   :\",logrank$exp[1],\"\\n Familiar:\",logrank$exp[2])\n",
        "\n",
        "\n",
        "hr<-(logrank$obs[1]/logrank$exp[1])/(logrank$obs[2]/logrank$exp[2])\n",
        "cat(\"\\n\\nCociente de riesgo:\", hr)\n",
        "\n",
        "# IC del 95%\n",
        "Li<-exp(log(hr)-qnorm(0.975)*sqrt(1/(logrank$exp[1]+1/logrank$exp[2])))\n",
        "Ls<-exp(log(hr)+qnorm(0.975)*sqrt(1/(logrank$exp[1]+1/logrank$exp[2])))\n",
        "cat(\"\\n\\nIC del 95%\\n\",\"(\",Li,\",\",Ls,\")\")\n"
      ],
      "execution_count": null,
      "outputs": []
    }
  ]
}